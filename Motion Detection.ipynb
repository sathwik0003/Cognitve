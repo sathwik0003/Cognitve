{
 "cells": [
  {
   "cell_type": "code",
   "execution_count": null,
   "id": "6c6ddc6e",
   "metadata": {},
   "outputs": [],
   "source": [
    "pip install opencv-python imutils\n"
   ]
  },
  {
   "cell_type": "code",
   "execution_count": 1,
   "id": "829f7813",
   "metadata": {},
   "outputs": [],
   "source": [
    "# core python modules\n",
    "import threading\n",
    "import winsound\n",
    "\n",
    "import cv2\n",
    "import imutils"
   ]
  },
  {
   "cell_type": "code",
   "execution_count": null,
   "id": "999fcf32",
   "metadata": {
    "scrolled": false
   },
   "outputs": [],
   "source": [
    "import cv2\n",
    "import imutils\n",
    "import threading\n",
    "\n",
    "capture = cv2.VideoCapture(0, cv2.CAP_DSHOW)\n",
    "\n",
    "capture.set(cv2.CAP_PROP_FRAME_WIDTH, 720)\n",
    "capture.set(cv2.CAP_PROP_FRAME_HEIGHT, 500)\n",
    "\n",
    "_, initial_frame = capture.read()\n",
    "initial_frame = imutils.resize(initial_frame, width=520)\n",
    "initial_frame = cv2.cvtColor(initial_frame, cv2.COLOR_BGR2GRAY)\n",
    "initial_frame = cv2.GaussianBlur(initial_frame, (21, 21), 0)\n",
    "\n",
    "motion_detected = False\n",
    "alarm_mode = False\n",
    "alarm_counter = 0\n",
    "\n",
    "def beep_alarm():\n",
    "    global motion_detected\n",
    "    for _ in range(3):  \n",
    "        if not alarm_mode:\n",
    "            break\n",
    "        print('ALARM')\n",
    "        \n",
    "        # winsound.Beep(2500, 1000)  # frequency 2500hz, time 1000ms\n",
    "    motion_detected = False\n",
    "\n",
    "while True:\n",
    "    _, frame = capture.read()\n",
    "    frame = imutils.resize(frame, width=500)\n",
    "\n",
    "   \n",
    "    initial_frame = cv2.resize(initial_frame, (frame.shape[1], frame.shape[0]))\n",
    "\n",
    "    threshold = None\n",
    "\n",
    "    if alarm_mode:\n",
    "        frame_bw = cv2.cvtColor(frame, cv2.COLOR_BGR2GRAY)\n",
    "        frame_bw = cv2.GaussianBlur(frame_bw, (5, 5), 0)\n",
    "\n",
    "        print(\"initial_frame dimensions:\", initial_frame.shape)\n",
    "        print(\"frame_bw dimensions:\", frame_bw.shape)\n",
    "\n",
    "        if initial_frame.shape == frame_bw.shape:\n",
    "            difference = cv2.absdiff(frame_bw, initial_frame)\n",
    "            threshold = cv2.threshold(difference, 25, 255, cv2.THRESH_BINARY)[1]\n",
    "            initial_frame = frame_bw\n",
    "            if threshold.sum() > 300:\n",
    "                alarm_counter += 1\n",
    "            else:\n",
    "                if alarm_counter > 0:\n",
    "                    alarm_counter -= 1\n",
    "        else:\n",
    "            print(\"Error: Frame dimensions do not match.\")\n",
    "\n",
    "    cv2.imshow(\"Cam\", threshold if alarm_mode and threshold is not None else frame)\n",
    "\n",
    "    if alarm_counter > 20 and not motion_detected:\n",
    "        motion_detected = True\n",
    "        threading.Thread(target=beep_alarm).start()\n",
    "\n",
    "    key_pressed = cv2.waitKey(30)\n",
    "    if key_pressed == ord(\"s\"):\n",
    "        alarm_mode = not alarm_mode\n",
    "    elif key_pressed == ord(\"q\"):\n",
    "        break\n",
    "\n",
    "capture.release()\n",
    "cv2.destroyAllWindows()\n"
   ]
  },
  {
   "cell_type": "code",
   "execution_count": null,
   "id": "88defaa2",
   "metadata": {},
   "outputs": [],
   "source": []
  }
 ],
 "metadata": {
  "kernelspec": {
   "display_name": "Python 3 (ipykernel)",
   "language": "python",
   "name": "python3"
  },
  "language_info": {
   "codemirror_mode": {
    "name": "ipython",
    "version": 3
   },
   "file_extension": ".py",
   "mimetype": "text/x-python",
   "name": "python",
   "nbconvert_exporter": "python",
   "pygments_lexer": "ipython3",
   "version": "3.9.7"
  }
 },
 "nbformat": 4,
 "nbformat_minor": 5
}
